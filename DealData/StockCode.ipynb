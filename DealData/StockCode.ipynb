{
 "cells": [
  {
   "cell_type": "code",
   "execution_count": 16,
   "metadata": {
    "collapsed": false
   },
   "outputs": [
    {
     "name": "stdout",
     "output_type": "stream",
     "text": [
      "1.0.2\n"
     ]
    },
    {
     "data": {
      "text/plain": [
       "'ascii'"
      ]
     },
     "execution_count": 16,
     "metadata": {},
     "output_type": "execute_result"
    }
   ],
   "source": [
    "# -*- coding:utf-8 -*-\n",
    "import tushare\n",
    "import re\n",
    "print(tushare.__version__)\n",
    "import sys\n",
    "import csv\n",
    "sys.getdefaultencoding()"
   ]
  },
  {
   "cell_type": "code",
   "execution_count": 4,
   "metadata": {
    "collapsed": false
   },
   "outputs": [],
   "source": [
    "f = open(\"stock/stockCode_sh.csv\")\n",
    "line = f.readline()\n",
    "for i in range(1773):\n",
    "    line = f.readline()\n",
    "    patt = re.compile(r\"\\((.*?)\\)\", re.I|re.X)\n",
    "    code = patt.findall(line)\n",
    "    \n",
    "    nPos = line.index('(')\n",
    "    name = line[0:nPos]\n",
    "    try:\n",
    "        df = tushare.get_hist_data(code[0])\n",
    "        df.to_csv('data_sh/'+name+'_'+code[0]+'.csv')\n",
    "    except:\n",
    "        continue"
   ]
  },
  {
   "cell_type": "code",
   "execution_count": 6,
   "metadata": {
    "collapsed": false
   },
   "outputs": [
    {
     "name": "stdout",
     "output_type": "stream",
     "text": [
      "<class 'pandas.core.frame.DataFrame'>\n"
     ]
    }
   ],
   "source": [
    "df = tushare.get_stock_basics()\n",
    "print type(df)\n",
    "df.to_csv('info_com.csv')"
   ]
  },
  {
   "cell_type": "code",
   "execution_count": 13,
   "metadata": {
    "collapsed": false
   },
   "outputs": [],
   "source": [
    "import os\n",
    "list_name = []\n",
    "path = '/Users/liyuan/Documents/内存数据库/deal_data/data_sz'\n",
    "for f in os.listdir(path):\n",
    "    file_path = os.path.join(path, f)\n",
    "    if os.path.splitext(file_path)[1]=='.csv':\n",
    "        temp = file_path[len(path)+1:]\n",
    "        nPos_1 = temp.index('_')\n",
    "        name = temp[0: nPos_1]\n",
    "        \n",
    "        nPos_2 = temp.index('.')\n",
    "        code = temp[nPos_1+1: nPos_2]\n",
    "        \n",
    "        temp = code + ',' + name + '\\n'\n",
    "        list_name.append(temp)\n",
    "\n",
    "txt = open('connect_sz.txt', 'a')\n",
    "for i in range(len(list_name)):\n",
    "    txt.write(list_name[i])\n",
    "    \n",
    "txt.close()"
   ]
  },
  {
   "cell_type": "code",
   "execution_count": 20,
   "metadata": {
    "collapsed": false
   },
   "outputs": [
    {
     "data": {
      "text/plain": [
       "str"
      ]
     },
     "execution_count": 20,
     "metadata": {},
     "output_type": "execute_result"
    }
   ],
   "source": [
    "with open('info_com.csv','rb') as csvfile:\n",
    "    reader = csv.reader(csvfile)\n",
    "    column = [row[0] for row in reader]\n",
    "type(column[1])"
   ]
  }
 ],
 "metadata": {
  "kernelspec": {
   "display_name": "Python 2",
   "language": "python",
   "name": "python2"
  },
  "language_info": {
   "codemirror_mode": {
    "name": "ipython",
    "version": 2
   },
   "file_extension": ".py",
   "mimetype": "text/x-python",
   "name": "python",
   "nbconvert_exporter": "python",
   "pygments_lexer": "ipython2",
   "version": "2.7.10"
  }
 },
 "nbformat": 4,
 "nbformat_minor": 1
}
